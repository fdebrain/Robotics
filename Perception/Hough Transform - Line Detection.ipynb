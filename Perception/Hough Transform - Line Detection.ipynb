{
  "nbformat": 4,
  "nbformat_minor": 0,
  "metadata": {
    "colab": {
      "name": "Hough Transform - Line Detection.ipynb",
      "private_outputs": true,
      "provenance": [],
      "collapsed_sections": []
    },
    "kernelspec": {
      "name": "python3",
      "display_name": "Python 3"
    },
    "language_info": {
      "name": "python"
    }
  },
  "cells": [
    {
      "cell_type": "code",
      "metadata": {
        "id": "m5MJMYWA9zef"
      },
      "source": [
        "# Source: https://sbme-tutorials.github.io/2021/cv/notes/4_week4.html\n",
        "\n",
        "import cv2\n",
        "import numpy as np\n",
        "import matplotlib.pyplot as plt\n",
        "from pathlib import Path\n",
        "import time"
      ],
      "execution_count": null,
      "outputs": []
    },
    {
      "cell_type": "code",
      "metadata": {
        "id": "4NARUnyL96Oe"
      },
      "source": [
        "# Load and display image\n",
        "IMG_PATH = Path('img3.jpg')\n",
        "# IMG_PATH = Path('img2.png')\n",
        "assert IMG_PATH.exists()\n",
        "img = cv2.imread(str(IMG_PATH))\n",
        "img = cv2.cvtColor(img, cv2.COLOR_RGB2BGR)\n",
        "\n",
        "fig, ax = plt.subplots(1, 1, figsize=(10, 10))\n",
        "ax.imshow(img)"
      ],
      "execution_count": null,
      "outputs": []
    },
    {
      "cell_type": "code",
      "metadata": {
        "id": "tbAroOFu-AUW"
      },
      "source": [
        "import scipy.signal\n",
        "\n",
        "# Convert to grayscale\n",
        "grayscale = cv2.cvtColor(img, cv2.COLOR_BGR2GRAY)\n",
        "grayscale = grayscale.astype(np.int32)\n",
        "print(img.shape)\n",
        "print(grayscale.shape)\n",
        "\n",
        "# Compute gradient (convolve image)\n",
        "sobel_filter_x = np.array([[-1, 0, 1],\n",
        "                           [-2, 0, 2], \n",
        "                           [-1, 0, 1]])\n",
        "\n",
        "sobel_filter_y = np.array([[ 1,  2,  1],\n",
        "                           [ 0,  0,  0], \n",
        "                           [-1, -2, -1]])\n",
        "\n",
        "fig, ax = plt.subplots(nrows=1, ncols=3, figsize=(20, 10))\n",
        "\n",
        "grad_x = scipy.signal.convolve2d(grayscale, sobel_filter_x)\n",
        "ax[0].imshow(abs(grad_x), cmap='gray')\n",
        "\n",
        "grad_y = scipy.signal.convolve2d(grayscale, sobel_filter_y)\n",
        "ax[1].imshow(abs(grad_y), cmap='gray')\n",
        "\n",
        "grad_img = np.sqrt(grad_x**2 + grad_y**2)\n",
        "grad_img = grad_img > np.quantile(grad_img, 0.9)\n",
        "grad_img = cv2.erode(grad_img.astype(np.uint8), kernel=np.ones((2, 2), dtype=np.uint8))\n",
        "ax[2].imshow(grad_img, cmap='gray')"
      ],
      "execution_count": null,
      "outputs": []
    },
    {
      "cell_type": "code",
      "metadata": {
        "id": "fdmwcf9kFc1W"
      },
      "source": [
        "def degree_to_radian(degree: int) -> float:\n",
        "    return degree * (np.pi / 180)\n",
        "\n",
        "def radian_to_degree(radian: float) -> float:\n",
        "    return radian * ( 180 / np.pi)\n",
        "\n",
        "# Parameters\n",
        "height, width = grayscale.shape\n",
        "diag_len = int(np.sqrt(height**2 + width**2))\n",
        "\n",
        "n_thetas = 180\n",
        "theta_step = np.pi / n_thetas \n",
        "theta_grid = np.linspace(-np.pi / 2, np.pi / 2, n_thetas)\n",
        "\n",
        "n_rhos = 180\n",
        "rho_step = 2 * diag_len / n_rhos\n",
        "r_grid = np.linspace(-diag_len, diag_len, n_rhos)\n",
        "\n",
        "print(f\"Nb thetas: {n_thetas}\")\n",
        "print(f\"Nb rhos: {n_rhos}\")\n",
        "\n",
        "# Binarize grad_img\n",
        "bin_img = grad_img > np.quantile(grad_img, 0.90)\n",
        "points = np.where(bin_img > 0)\n",
        "print(\"Nb points: \", len(points[0])) \n",
        "\n",
        "cos_t = np.cos(theta_grid)\n",
        "sin_t = np.sin(theta_grid)\n",
        "\n",
        "tic = time.time()\n",
        "hough_matrix = np.zeros((n_rhos + 1, n_thetas + 1), dtype=np.uint16)\n",
        "for row, col in zip(*points):\n",
        "    for idx_theta in range(len(theta_grid)):\n",
        "        r = col * cos_t[idx_theta] + row * sin_t[idx_theta] + diag_len\n",
        "        idx_r = int(r / rho_step)\n",
        "        hough_matrix[idx_r, idx_theta] += 1\n",
        "        \n",
        "print(f\"Took {(time.time() - tic):.1f}s\")\n",
        "\n",
        "fig, ax = plt.subplots(nrows=2, ncols=2, figsize=(15, 15))\n",
        "ax[0][0].imshow(img)\n",
        "\n",
        "ax[0][1].imshow(bin_img, cmap='gray')\n",
        "\n",
        "ax[1][0].imshow(hough_matrix, cmap='gray')\n",
        "ax[1][0].set_xticks(np.linspace(0, n_thetas, 19)) # Every 10 degrees\n",
        "ax[1][0].set_xticklabels(np.arange(-90, 91, 10))\n",
        "ax[1][0].set_xlabel(\"Angle [degree]\")\n",
        "ax[1][0].set_yticks(np.linspace(0, n_rhos, 10)) \n",
        "ax[1][0].set_yticklabels(np.linspace(-diag_len, diag_len, 10).astype(int))\n",
        "ax[1][0].set_ylabel(\"Distance from origin [pixels]\")\n",
        "\n",
        "hough_matrix_tmp = (hough_matrix - hough_matrix.min()) / (hough_matrix.max() - hough_matrix.min())\n",
        "hough_matrix_tmp *= 255\n",
        "hough_matrix_tmp = hough_matrix_tmp.astype(np.uint8)\n",
        "dst = cv2.equalizeHist(hough_matrix_tmp)\n",
        "ax[1][1].imshow(dst, cmap='gray')\n",
        "ax[1][1].set_xticks(np.linspace(0, n_thetas, 19)) # Every 10 degrees\n",
        "ax[1][1].set_xticklabels(np.arange(-90, 91, 10))\n",
        "ax[1][1].set_xlabel(\"Angle [degree]\")\n",
        "ax[1][1].set_yticks(np.linspace(0, n_rhos, 10)) \n",
        "ax[1][1].set_yticklabels(np.linspace(-diag_len, diag_len, 10).astype(int))\n",
        "ax[1][1].set_ylabel(\"Distance from origin [pixels]\")"
      ],
      "execution_count": null,
      "outputs": []
    },
    {
      "cell_type": "code",
      "metadata": {
        "id": "BfphnJ0DkiqU"
      },
      "source": [
        "# Peak detection\n",
        "import numpy as np\n",
        "from scipy.ndimage.filters import maximum_filter\n",
        "from scipy.ndimage.morphology import generate_binary_structure, binary_erosion\n",
        "\n",
        "def detect_peaks(image):\n",
        "    neighborhood = generate_binary_structure(2, 2) # define an 8-connected neighborhood\n",
        "    local_max = maximum_filter(image, footprint=neighborhood) == image\n",
        "    background = (image == 0)\n",
        "    eroded_background = binary_erosion(background, structure=neighborhood, border_value=1)\n",
        "    detected_peaks = local_max ^ eroded_background\n",
        "    return detected_peaks\n",
        "\n",
        "filtered_hough_matrix = hough_matrix_tmp.copy()\n",
        "filter_background = np.where(filtered_hough_matrix < np.quantile(filtered_hough_matrix, 0.998))\n",
        "filtered_hough_matrix[filter_background] = 0\n",
        "\n",
        "peaks = detect_peaks(filtered_hough_matrix)\n",
        "print(peaks.sum())"
      ],
      "execution_count": null,
      "outputs": []
    },
    {
      "cell_type": "code",
      "metadata": {
        "id": "kPRMN9xtrndO"
      },
      "source": [
        "plt.figure(figsize=(10, 10))\n",
        "plt.imshow(peaks)"
      ],
      "execution_count": null,
      "outputs": []
    },
    {
      "cell_type": "code",
      "metadata": {
        "id": "_ZYK0e2iHtz2"
      },
      "source": [
        "# Polar to cartesian\n",
        "def polar2cart(r, theta):\n",
        "    x = r * np.cos(theta)\n",
        "    y = r * np.sin(theta)\n",
        "    return x, y\n",
        "\n",
        "# Extract maxima\n",
        "# extrema = np.where(hough_matrix > 0.80 * hough_matrix.max())\n",
        "extrema = np.where(peaks>0)\n",
        "print(len(extrema[0]))\n",
        "\n",
        "fig, ax = plt.subplots(1, 1, figsize=(10,10))\n",
        "plt.imshow(img)\n",
        "\n",
        "for row, col in zip(*extrema):\n",
        "    theta = theta_grid[col]\n",
        "    r = r_grid[row]\n",
        "    x0, y0 = polar2cart(r, theta)\n",
        "    ax.axline((x0, y0), slope=np.tan(theta + np.pi/2))"
      ],
      "execution_count": null,
      "outputs": []
    },
    {
      "cell_type": "code",
      "metadata": {
        "id": "RCD4nKYaj240"
      },
      "source": [
        "# Compare to cv\n",
        "edges = cv2.Canny(grayscale.astype(np.uint8), 50, 150, apertureSize=3)\n",
        "lines = cv2.HoughLines(edges, 1, np.pi/360, 150, ).squeeze()\n",
        "\n",
        "print(len(lines))\n",
        "\n",
        "fig, ax = plt.subplots(1, 1, figsize=(10,10))\n",
        "plt.imshow(img)\n",
        "\n",
        "for rho, theta in lines:\n",
        "    x0, y0 = polar2cart(rho, theta)\n",
        "    ax.axline((x0, y0), slope=np.tan(theta + np.pi/2))"
      ],
      "execution_count": null,
      "outputs": []
    },
    {
      "cell_type": "code",
      "metadata": {
        "id": "cJqDvbdO76a2"
      },
      "source": [
        ""
      ],
      "execution_count": null,
      "outputs": []
    }
  ]
}